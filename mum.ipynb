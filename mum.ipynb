{
 "cells": [
  {
   "cell_type": "markdown",
   "metadata": {},
   "source": [
    "# Mumbai House Price Prediction Model"
   ]
  },
  {
   "cell_type": "markdown",
   "metadata": {},
   "source": [
    "This notebook demonstrates how to build a house price prediction model for Mumbai using the provided dataset. We will perform data preprocessing, explore correlations, visualize data, and train a LightGBM Regressor model."
   ]
  },
  {
   "cell_type": "code",
   "execution_count": 2,
   "metadata": {},
   "outputs": [
    {
     "name": "stdout",
     "output_type": "stream",
     "text": [
      "Original DataFrame Info:\n",
      "<class 'pandas.core.frame.DataFrame'>\n",
      "RangeIndex: 76038 entries, 0 to 76037\n",
      "Data columns (total 9 columns):\n",
      " #   Column      Non-Null Count  Dtype  \n",
      "---  ------      --------------  -----  \n",
      " 0   bhk         76038 non-null  int64  \n",
      " 1   type        76038 non-null  object \n",
      " 2   locality    76038 non-null  object \n",
      " 3   area        76038 non-null  int64  \n",
      " 4   price       76038 non-null  float64\n",
      " 5   price_unit  76038 non-null  object \n",
      " 6   region      76038 non-null  object \n",
      " 7   status      76038 non-null  object \n",
      " 8   age         76038 non-null  object \n",
      "dtypes: float64(1), int64(2), object(6)\n",
      "memory usage: 5.2+ MB\n",
      "\n",
      "Original DataFrame Head:\n",
      "| bhk   | type      | locality                             | area   | price   | price_unit   | region         | status             | age   |\n",
      "|:------|:----------|:-------------------------------------|:-------|:--------|:-------------|:---------------|:-------------------|:------|\n",
      "| 3     | Apartment | Lak And Hanware The Residency Tower  | 685    | 2.5     | Cr           | Andheri West   | Ready to move      | New   |\n",
      "| 2     | Apartment | Radheya Sai Enclave Building No 2    | 640    | 52.51   | L            | Naigaon East   | Under Construction | New   |\n",
      "| 2     | Apartment | Romell Serene                        | 610    | 1.73    | Cr           | Borivali West  | Under Construction | New   |\n",
      "| 2     | Apartment | Soundlines Codename Urban Rainforest | 876    | 59.98   | L            | Panvel         | Under Construction | New   |\n",
      "| 2     | Apartment | Origin Oriana                        | 659    | 94.11   | L            | Mira Road East | Under Construction | New   |\n"
     ]
    }
   ],
   "source": [
    "import pandas as pd\n",
    "import numpy as np\n",
    "import matplotlib.pyplot as plt\n",
    "import seaborn as sns\n",
    "from sklearn.model_selection import train_test_split, GridSearchCV\n",
    "from sklearn.preprocessing import OneHotEncoder\n",
    "from sklearn.compose import ColumnTransformer\n",
    "from sklearn.pipeline import Pipeline\n",
    "from sklearn.metrics import r2_score, mean_absolute_error, mean_squared_error\n",
    "\n",
    "# Note: LightGBM is used for the model, you might need to install it:\n",
    "# pip install lightgbm\n",
    "import lightgbm as lgb\n",
    "\n",
    "# Load the dataset\n",
    "df = pd.read_csv('Mumbai House Prices.csv')\n",
    "df_original = df.copy()\n",
    "print(\"Original DataFrame Info:\")\n",
    "df.info()\n",
    "print(\"\\nOriginal DataFrame Head:\")\n",
    "print(df.head().to_markdown(index=False, numalign=\"left\", stralign=\"left\"))"
   ]
  },
  {
   "cell_type": "markdown",
   "metadata": {},
   "source": [
    "## Data Preprocessing\n",
    "1. **Convert Price to Lakhs**: The `price` column has units 'Cr' (Crore) and 'L' (Lakh). We convert all prices to Lakhs for consistency. (1 Crore = 100 Lakhs).\n",
    "2. **Drop Original Price Columns**: Remove the original `price` and `price_unit` columns."
   ]
  },
  {
   "cell_type": "code",
   "execution_count": 3,
   "metadata": {},
   "outputs": [
    {
     "name": "stdout",
     "output_type": "stream",
     "text": [
      "Processed DataFrame Head with Price in Lakhs:\n",
      "| bhk   | type      | locality                             | area   | region         | status             | age   | price_lakhs   |\n",
      "|:------|:----------|:-------------------------------------|:-------|:---------------|:-------------------|:------|:--------------|\n",
      "| 3     | Apartment | Lak And Hanware The Residency Tower  | 685    | Andheri West   | Ready to move      | New   | 250           |\n",
      "| 2     | Apartment | Radheya Sai Enclave Building No 2    | 640    | Naigaon East   | Under Construction | New   | 52.51         |\n",
      "| 2     | Apartment | Romell Serene                        | 610    | Borivali West  | Under Construction | New   | 173           |\n",
      "| 2     | Apartment | Soundlines Codename Urban Rainforest | 876    | Panvel         | Under Construction | New   | 59.98         |\n",
      "| 2     | Apartment | Origin Oriana                        | 659    | Mira Road East | Under Construction | New   | 94.11         |\n",
      "\n",
      "Processed DataFrame Info:\n",
      "<class 'pandas.core.frame.DataFrame'>\n",
      "RangeIndex: 76038 entries, 0 to 76037\n",
      "Data columns (total 8 columns):\n",
      " #   Column       Non-Null Count  Dtype  \n",
      "---  ------       --------------  -----  \n",
      " 0   bhk          76038 non-null  int64  \n",
      " 1   type         76038 non-null  object \n",
      " 2   locality     76038 non-null  object \n",
      " 3   area         76038 non-null  int64  \n",
      " 4   region       76038 non-null  object \n",
      " 5   status       76038 non-null  object \n",
      " 6   age          76038 non-null  object \n",
      " 7   price_lakhs  76038 non-null  float64\n",
      "dtypes: float64(1), int64(2), object(5)\n",
      "memory usage: 4.6+ MB\n"
     ]
    }
   ],
   "source": [
    "# Convert price to Lakhs\n",
    "def convert_price_to_lakhs(row):\n",
    "    if row['price_unit'] == 'Cr':\n",
    "        return row['price'] * 100\n",
    "    else:\n",
    "        return row['price']\n",
    "\n",
    "df['price_lakhs'] = df.apply(convert_price_to_lakhs, axis=1)\n",
    "\n",
    "# Drop original price and price_unit columns\n",
    "df_processed = df.drop(columns=['price', 'price_unit'])\n",
    "\n",
    "print(\"Processed DataFrame Head with Price in Lakhs:\")\n",
    "print(df_processed.head().to_markdown(index=False, numalign=\"left\", stralign=\"left\"))\n",
    "print(\"\\nProcessed DataFrame Info:\")\n",
    "df_processed.info()"
   ]
  },
  {
   "cell_type": "markdown",
   "metadata": {},
   "source": [
    "## Correlation Analysis\n",
    "We will analyze the correlation between numerical features and the target variable (`price_lakhs`). For categorical features, we'll examine their relationship with the target using group-by operations and visualizations."
   ]
  },
  {
   "cell_type": "code",
   "execution_count": null,
   "metadata": {},
   "outputs": [
    {
     "ename": "SyntaxError",
     "evalue": "unterminated f-string literal (detected at line 11) (3594231227.py, line 11)",
     "output_type": "error",
     "traceback": [
      "  \u001b[36mCell\u001b[39m\u001b[36m \u001b[39m\u001b[32mIn[4]\u001b[39m\u001b[32m, line 11\u001b[39m\n\u001b[31m    \u001b[39m\u001b[31mprint(f\"\\n{col} vs Price:\\\")\u001b[39m\n          ^\n\u001b[31mSyntaxError\u001b[39m\u001b[31m:\u001b[39m unterminated f-string literal (detected at line 11)\n"
     ]
    }
   ],
   "source": [
    "print(\"\\nCorrelation Matrix for Numerical Features:\")\n",
    "print(df_processed[['bhk', 'area', 'price_lakhs']].corr().to_markdown())\n",
    "\n",
    "plt.figure(figsize=(8, 6))\n",
    "sns.heatmap(df_processed[['bhk', 'area', 'price_lakhs']].corr(), annot=True, cmap='coolwarm', fmt='.2f')\n",
    "plt.title('Correlation Matrix of Numerical Features')\n",
    "plt.show()\n",
    "\n",
    "print(\"\\nMean Price by Categorical Features:\")\n",
    "for col in ['type', 'region', 'status', 'age']:\n",
    "    print(f\"\\n{col} vs Price:\")\n",
    "    print(df_processed.groupby(col)['price_lakhs'].mean().sort_values(ascending=False).to_markdown())"
   ]
  },
  {
   "cell_type": "markdown",
   "metadata": {},
   "source": [
    "## Data Visualization\n",
    "Visualizations help us understand the distribution of data and relationships between variables."
   ]
  },
  {
   "cell_type": "code",
   "execution_count": null,
   "metadata": {},
   "outputs": [],
   "source": [
    "# Distribution of numerical features\n",
    "plt.figure(figsize=(15, 5))\n",
    "plt.subplot(1, 3, 1)\n",
    "sns.histplot(df_processed['bhk'], kde=True)\n",
    "plt.title('Distribution of BHK')\n",
    "plt.subplot(1, 3, 2)\n",
    "sns.histplot(df_processed['area'], kde=True)\n",
    "plt.title('Distribution of Area')\n",
    "plt.subplot(1, 3, 3)\n",
    "sns.histplot(df_processed['price_lakhs'], kde=True)\n",
    "plt.title('Distribution of Price (Lakhs)')\n",
    "plt.tight_layout()\n",
    "plt.show()\n",
    "\n",
    "# Scatter plots of numerical features vs price\n",
    "plt.figure(figsize=(12, 5))\n",
    "plt.subplot(1, 2, 1)\n",
    "sns.scatterplot(x='bhk', y='price_lakhs', data=df_processed)\n",
    "plt.title('BHK vs Price')\n",
    "plt.subplot(1, 2, 2)\n",
    "sns.scatterplot(x='area', y='price_lakhs', data=df_processed)\n",
    "plt.title('Area vs Price')\n",
    "plt.tight_layout()\n",
    "plt.show()\n",
    "\n",
    "# Box plots for categorical features vs price\n",
    "categorical_for_plot = ['type', 'region', 'status', 'age']\n",
    "plt.figure(figsize=(15, 10))\n",
    "for i, col in enumerate(categorical_for_plot):\n",
    "    plt.subplot(2, 2, i + 1)\n",
    "    sns.boxplot(x=col, y='price_lakhs', data=df_processed)\n",
    "    plt.title(f'{col} vs Price')\n",
    "    plt.xticks(rotation=45, ha='right')\n",
    "plt.tight_layout()\n",
    "plt.show()"
   ]
  },
  {
   "cell_type": "markdown",
   "metadata": {},
   "source": [
    "## Feature Engineering and Data Splitting\n",
    "We define our features (X) and target (y), and then split the data into training and testing sets to evaluate model performance on unseen data. We also apply one-hot encoding to categorical features."
   ]
  },
  {
   "cell_type": "code",
   "execution_count": null,
   "metadata": {},
   "outputs": [],
   "source": [
    "# Define categorical and numerical features for the model\n",
    "categorical_features_model = ['type', 'locality', 'region', 'status', 'age']\n",
    "numerical_features_model = ['bhk', 'area']\n",
    "\n",
    "# Create a column transformer for one-hot encoding\n",
    "preprocessor = ColumnTransformer(\n",
    "    transformers=[\n",
    "        ('num', 'passthrough', numerical_features_model),\n",
    "        ('cat', OneHotEncoder(handle_unknown='ignore'), categorical_features_model)\n",
    "    ])\n",
    "\n",
    "# Define features (X) and target (y)\n",
    "X = df_processed.drop('price_lakhs', axis=1)\n",
    "y = df_processed['price_lakhs']\n",
    "\n",
    "# Split data into training and testing sets\n",
    "X_train, X_test, y_train, y_test = train_test_split(X, y, test_size=0.2, random_state=42)\n",
    "\n",
    "print(f\"X_train shape: {X_train.shape}\")\n",
    "print(f\"y_train shape: {y_train.shape}\")\n",
    "print(f\"X_test shape: {X_test.shape}\")\n",
    "print(f\"y_test shape: {y_test.shape}\")"
   ]
  },
  {
   "cell_type": "markdown",
   "metadata": {},
   "source": [
    "## Model Training with Hyperparameter Tuning and Evaluation\n",
    "We use a LightGBM Regressor for its efficiency and accuracy. To improve accuracy, we perform hyperparameter tuning using `GridSearchCV` with cross-validation. The model is trained on the training data and evaluated on the test data using metrics such as R-squared, Mean Absolute Error (MAE), Mean Squared Error (MSE), and Root Mean Squared Error (RMSE)."
   ]
  },
  {
   "cell_type": "code",
   "execution_count": null,
   "metadata": {},
   "outputs": [],
   "source": [
    "# Create a pipeline with preprocessing and LightGBM Regressor\n",
    "pipeline = Pipeline(steps=[('preprocessor', preprocessor),\n",
    "                           ('regressor', lgb.LGBMRegressor(random_state=42))])\n",
    "\n",
    "# Define parameter grid for GridSearchCV (example parameters - can be expanded)\n",
    "param_grid = {\n",
    "    'regressor__n_estimators': [100, 200, 300],\n",
    "    'regressor__learning_rate': [0.01, 0.05, 0.1],\n",
    "    'regressor__num_leaves': [20, 31, 40]\n",
    "}\n",
    "\n",
    "# Perform GridSearchCV for hyperparameter tuning with cross-validation\n",
    "grid_search = GridSearchCV(pipeline, param_grid, cv=3, scoring='r2', n_jobs=-1, verbose=1)\n",
    "grid_search.fit(X_train, y_train)\n",
    "\n",
    "print(f\"Best parameters found: {grid_search.best_params_}\")\n",
    "print(f\"Best R-squared score: {grid_search.best_score_:.4f}\")\n",
    "\n",
    "# Get the best model\n",
    "best_model = grid_search.best_estimator_\n",
    "\n",
    "# Make predictions on the test set with the best model\n",
    "y_pred = best_model.predict(X_test)\n",
    "\n",
    "# Evaluate the model\n",
    "r2 = r2_score(y_test, y_pred)\n",
    "mae = mean_absolute_error(y_test, y_pred)\n",
    "mse = mean_squared_error(y_test, y_pred)\n",
    "rmse = mse**0.5\n",
    "\n",
    "print(f\"\\nModel Evaluation on Test Set (with best parameters):\")\n",
    "print(f\"R-squared: {r2:.4f}\")\n",
    "print(f\"Mean Absolute Error: {mae:.2f}\")\n",
    "print(f\"Mean Squared Error: {mse:.2f}\")\n",
    "print(f\"Root Mean Squared Error: {rmse:.2f}\")"
   ]
  },
  {
   "cell_type": "markdown",
   "metadata": {},
   "source": [
    "## Conclusion\n",
    "This notebook provides a comprehensive approach to predicting Mumbai house prices, including data exploration, visualization, correlation analysis, and a tuned LightGBM regression model. The evaluation metrics indicate the model's performance on unseen data. Further improvements could involve more advanced feature engineering, exploring other models, or collecting more data."
   ]
  }
 ],
 "metadata": {
  "kernelspec": {
   "display_name": "Python 3",
   "language": "python",
   "name": "python3"
  },
  "language_info": {
   "codemirror_mode": {
    "name": "ipython",
    "version": 3
   },
   "file_extension": ".py",
   "mimetype": "text/x-python",
   "name": "python",
   "nbconvert_exporter": "python",
   "pygments_lexer": "ipython3",
   "version": "3.13.1"
  }
 },
 "nbformat": 4,
 "nbformat_minor": 4
}
